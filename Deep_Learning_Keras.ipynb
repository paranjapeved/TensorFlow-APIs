{
 "cells": [
  {
   "cell_type": "markdown",
   "metadata": {},
   "source": [
    "# Keras\n",
    "## A simple example of deep neural network using Keras API in Tensorflow \n",
    "## Dataset : Wine Dataset from sklearn"
   ]
  },
  {
   "cell_type": "code",
   "execution_count": 5,
   "metadata": {},
   "outputs": [
    {
     "name": "stdout",
     "output_type": "stream",
     "text": [
      "Wine Data Database\n",
      "====================\n",
      "\n",
      "Notes\n",
      "-----\n",
      "Data Set Characteristics:\n",
      "    :Number of Instances: 178 (50 in each of three classes)\n",
      "    :Number of Attributes: 13 numeric, predictive attributes and the class\n",
      "    :Attribute Information:\n",
      " \t\t- 1) Alcohol\n",
      " \t\t- 2) Malic acid\n",
      " \t\t- 3) Ash\n",
      "\t\t- 4) Alcalinity of ash  \n",
      " \t\t- 5) Magnesium\n",
      "\t\t- 6) Total phenols\n",
      " \t\t- 7) Flavanoids\n",
      " \t\t- 8) Nonflavanoid phenols\n",
      " \t\t- 9) Proanthocyanins\n",
      "\t\t- 10)Color intensity\n",
      " \t\t- 11)Hue\n",
      " \t\t- 12)OD280/OD315 of diluted wines\n",
      " \t\t- 13)Proline\n",
      "        \t- class:\n",
      "                - class_0\n",
      "                - class_1\n",
      "                - class_2\n",
      "\t\t\n",
      "    :Summary Statistics:\n",
      "    \n",
      "    ============================= ==== ===== ======= =====\n",
      "                                   Min   Max   Mean     SD\n",
      "    ============================= ==== ===== ======= =====\n",
      "    Alcohol:                      11.0  14.8    13.0   0.8\n",
      "    Malic Acid:                   0.74  5.80    2.34  1.12\n",
      "    Ash:                          1.36  3.23    2.36  0.27\n",
      "    Alcalinity of Ash:            10.6  30.0    19.5   3.3\n",
      "    Magnesium:                    70.0 162.0    99.7  14.3\n",
      "    Total Phenols:                0.98  3.88    2.29  0.63\n",
      "    Flavanoids:                   0.34  5.08    2.03  1.00\n",
      "    Nonflavanoid Phenols:         0.13  0.66    0.36  0.12\n",
      "    Proanthocyanins:              0.41  3.58    1.59  0.57\n",
      "    Colour Intensity:              1.3  13.0     5.1   2.3\n",
      "    Hue:                          0.48  1.71    0.96  0.23\n",
      "    OD280/OD315 of diluted wines: 1.27  4.00    2.61  0.71\n",
      "    Proline:                       278  1680     746   315\n",
      "    ============================= ==== ===== ======= =====\n",
      "\n",
      "    :Missing Attribute Values: None\n",
      "    :Class Distribution: class_0 (59), class_1 (71), class_2 (48)\n",
      "    :Creator: R.A. Fisher\n",
      "    :Donor: Michael Marshall (MARSHALL%PLU@io.arc.nasa.gov)\n",
      "    :Date: July, 1988\n",
      "\n",
      "This is a copy of UCI ML Wine recognition datasets.\n",
      "https://archive.ics.uci.edu/ml/machine-learning-databases/wine/wine.data\n",
      "\n",
      "The data is the results of a chemical analysis of wines grown in the same\n",
      "region in Italy by three different cultivators. There are thirteen different\n",
      "measurements taken for different constituents found in the three types of\n",
      "wine.\n",
      "\n",
      "Original Owners: \n",
      "\n",
      "Forina, M. et al, PARVUS - \n",
      "An Extendible Package for Data Exploration, Classification and Correlation. \n",
      "Institute of Pharmaceutical and Food Analysis and Technologies,\n",
      "Via Brigata Salerno, 16147 Genoa, Italy.\n",
      "\n",
      "Citation:\n",
      "\n",
      "Lichman, M. (2013). UCI Machine Learning Repository\n",
      "[http://archive.ics.uci.edu/ml]. Irvine, CA: University of California,\n",
      "School of Information and Computer Science. \n",
      "\n",
      "References\n",
      "----------\n",
      "(1) \n",
      "S. Aeberhard, D. Coomans and O. de Vel, \n",
      "Comparison of Classifiers in High Dimensional Settings, \n",
      "Tech. Rep. no. 92-02, (1992), Dept. of Computer Science and Dept. of \n",
      "Mathematics and Statistics, James Cook University of North Queensland. \n",
      "(Also submitted to Technometrics). \n",
      "\n",
      "The data was used with many others for comparing various \n",
      "classifiers. The classes are separable, though only RDA \n",
      "has achieved 100% correct classification. \n",
      "(RDA : 100%, QDA 99.4%, LDA 98.9%, 1NN 96.1% (z-transformed data)) \n",
      "(All results using the leave-one-out technique) \n",
      "\n",
      "(2) \n",
      "S. Aeberhard, D. Coomans and O. de Vel, \n",
      "\"THE CLASSIFICATION PERFORMANCE OF RDA\" \n",
      "Tech. Rep. no. 92-01, (1992), Dept. of Computer Science and Dept. of \n",
      "Mathematics and Statistics, James Cook University of North Queensland. \n",
      "(Also submitted to Journal of Chemometrics). \n",
      "\n"
     ]
    }
   ],
   "source": [
    "from sklearn.datasets import load_wine\n",
    "\n",
    "wine_data = load_wine()\n",
    "\n",
    "wine_data.keys()\n",
    "\n",
    "print(wine_data['DESCR'])\n",
    "\n",
    "feat_data = wine_data['data']\n",
    "labels = wine_data['target']\n"
   ]
  },
  {
   "cell_type": "markdown",
   "metadata": {},
   "source": [
    "Split data"
   ]
  },
  {
   "cell_type": "code",
   "execution_count": 6,
   "metadata": {},
   "outputs": [],
   "source": [
    "from sklearn.model_selection import train_test_split\n",
    "\n",
    "X_train,X_test,y_train,y_test = train_test_split(feat_data,labels,test_size=0.3,random_state=101)"
   ]
  },
  {
   "cell_type": "markdown",
   "metadata": {},
   "source": [
    "Scaling "
   ]
  },
  {
   "cell_type": "code",
   "execution_count": 8,
   "metadata": {
    "collapsed": true
   },
   "outputs": [],
   "source": [
    "from sklearn.preprocessing import MinMaxScaler\n",
    "\n",
    "scaler = MinMaxScaler()\n",
    "\n",
    "scaled_x_train = scaler.fit_transform(X_train)\n",
    "\n",
    "scaled_x_test = scaler.transform(X_test)"
   ]
  },
  {
   "cell_type": "code",
   "execution_count": 16,
   "metadata": {
    "collapsed": true
   },
   "outputs": [],
   "source": [
    "import tensorflow as tf\n",
    "from tensorflow.contrib.keras import models\n",
    "from tensorflow.contrib.keras import layers\n"
   ]
  },
  {
   "cell_type": "code",
   "execution_count": null,
   "metadata": {
    "collapsed": true
   },
   "outputs": [],
   "source": [
    "dnn_keras_model = models.Sequential()"
   ]
  },
  {
   "cell_type": "markdown",
   "metadata": {},
   "source": [
    "First Layer"
   ]
  },
  {
   "cell_type": "code",
   "execution_count": 17,
   "metadata": {},
   "outputs": [],
   "source": [
    "dnn_keras_model.add(layers.Dense(units=13,input_dim=13,activation='relu'))"
   ]
  },
  {
   "cell_type": "markdown",
   "metadata": {},
   "source": [
    "Two more dense layers"
   ]
  },
  {
   "cell_type": "code",
   "execution_count": 18,
   "metadata": {
    "collapsed": true
   },
   "outputs": [],
   "source": [
    "dnn_keras_model.add(layers.Dense(units=13,input_dim=13,activation='relu'))\n",
    "dnn_keras_model.add(layers.Dense(units=13,input_dim=13,activation='relu'))"
   ]
  },
  {
   "cell_type": "markdown",
   "metadata": {},
   "source": [
    "Output Layer"
   ]
  },
  {
   "cell_type": "code",
   "execution_count": 20,
   "metadata": {
    "collapsed": true
   },
   "outputs": [],
   "source": [
    "dnn_keras_model.add(layers.Dense(units=3,activation='softmax'))"
   ]
  },
  {
   "cell_type": "code",
   "execution_count": 22,
   "metadata": {
    "collapsed": true
   },
   "outputs": [],
   "source": [
    "from tensorflow.contrib.keras import activations,losses,optimizers,metrics"
   ]
  },
  {
   "cell_type": "markdown",
   "metadata": {},
   "source": [
    "Final Step : Compile the model (loss = 'sparse_categorical_crossentropy' because we dont have data in one-hot encoding. You can first one-hot encode and then use loss = 'categorical_crossentropy')"
   ]
  },
  {
   "cell_type": "code",
   "execution_count": 25,
   "metadata": {},
   "outputs": [],
   "source": [
    "dnn_keras_model.model.compile(optimizer='adam',\n",
    "                             loss='sparse_categorical_crossentropy',\n",
    "                             metrics=['accuracy'])"
   ]
  },
  {
   "cell_type": "markdown",
   "metadata": {},
   "source": [
    "Train Model"
   ]
  },
  {
   "cell_type": "code",
   "execution_count": 29,
   "metadata": {},
   "outputs": [
    {
     "name": "stdout",
     "output_type": "stream",
     "text": [
      "Epoch 1/50\n",
      "124/124 [==============================] - 0s - loss: 1.0759 - acc: 0.2823     \n",
      "Epoch 2/50\n",
      "124/124 [==============================] - 0s - loss: 1.0687 - acc: 0.2984     \n",
      "Epoch 3/50\n",
      "124/124 [==============================] - 0s - loss: 1.0590 - acc: 0.4032     \n",
      "Epoch 4/50\n",
      "124/124 [==============================] - 0s - loss: 1.0506 - acc: 0.5000     \n",
      "Epoch 5/50\n",
      "124/124 [==============================] - 0s - loss: 1.0412 - acc: 0.5726     \n",
      "Epoch 6/50\n",
      "124/124 [==============================] - 0s - loss: 1.0313 - acc: 0.5968     \n",
      "Epoch 7/50\n",
      "124/124 [==============================] - 0s - loss: 1.0210 - acc: 0.6452     \n",
      "Epoch 8/50\n",
      "124/124 [==============================] - 0s - loss: 1.0092 - acc: 0.8145     \n",
      "Epoch 9/50\n",
      "124/124 [==============================] - 0s - loss: 0.9972 - acc: 0.8952     \n",
      "Epoch 10/50\n",
      "124/124 [==============================] - 0s - loss: 0.9844 - acc: 0.9516     \n",
      "Epoch 11/50\n",
      "124/124 [==============================] - 0s - loss: 0.9709 - acc: 0.9758     \n",
      "Epoch 12/50\n",
      "124/124 [==============================] - 0s - loss: 0.9568 - acc: 0.9758     \n",
      "Epoch 13/50\n",
      "124/124 [==============================] - 0s - loss: 0.9418 - acc: 0.9758     \n",
      "Epoch 14/50\n",
      "124/124 [==============================] - 0s - loss: 0.9263 - acc: 0.9758     \n",
      "Epoch 15/50\n",
      "124/124 [==============================] - 0s - loss: 0.9101 - acc: 0.9677     \n",
      "Epoch 16/50\n",
      "124/124 [==============================] - 0s - loss: 0.8934 - acc: 0.9677     \n",
      "Epoch 17/50\n",
      "124/124 [==============================] - 0s - loss: 0.8760 - acc: 0.9758     \n",
      "Epoch 18/50\n",
      "124/124 [==============================] - 0s - loss: 0.8584 - acc: 0.9677     \n",
      "Epoch 19/50\n",
      "124/124 [==============================] - 0s - loss: 0.8404 - acc: 0.9677     \n",
      "Epoch 20/50\n",
      "124/124 [==============================] - 0s - loss: 0.8233 - acc: 0.9758     \n",
      "Epoch 21/50\n",
      "124/124 [==============================] - 0s - loss: 0.8053 - acc: 0.9758     \n",
      "Epoch 22/50\n",
      "124/124 [==============================] - 0s - loss: 0.7893 - acc: 0.9758     \n",
      "Epoch 23/50\n",
      "124/124 [==============================] - 0s - loss: 0.7719 - acc: 0.9758     \n",
      "Epoch 24/50\n",
      "124/124 [==============================] - 0s - loss: 0.7566 - acc: 0.9758     \n",
      "Epoch 25/50\n",
      "124/124 [==============================] - 0s - loss: 0.7412 - acc: 0.9839     \n",
      "Epoch 26/50\n",
      "124/124 [==============================] - 0s - loss: 0.7264 - acc: 0.9839     \n",
      "Epoch 27/50\n",
      "124/124 [==============================] - 0s - loss: 0.7131 - acc: 0.9919     \n",
      "Epoch 28/50\n",
      "124/124 [==============================] - 0s - loss: 0.7007 - acc: 0.9839     \n",
      "Epoch 29/50\n",
      "124/124 [==============================] - 0s - loss: 0.6879 - acc: 0.9839     \n",
      "Epoch 30/50\n",
      "124/124 [==============================] - 0s - loss: 0.6767 - acc: 0.9839     \n",
      "Epoch 31/50\n",
      "124/124 [==============================] - 0s - loss: 0.6660 - acc: 0.9919     \n",
      "Epoch 32/50\n",
      "124/124 [==============================] - 0s - loss: 0.6557 - acc: 0.9919     \n",
      "Epoch 33/50\n",
      "124/124 [==============================] - 0s - loss: 0.6468 - acc: 0.9919     \n",
      "Epoch 34/50\n",
      "124/124 [==============================] - 0s - loss: 0.6377 - acc: 0.9919     \n",
      "Epoch 35/50\n",
      "124/124 [==============================] - 0s - loss: 0.6290 - acc: 0.9919     \n",
      "Epoch 36/50\n",
      "124/124 [==============================] - 0s - loss: 0.6212 - acc: 0.9919     \n",
      "Epoch 37/50\n",
      "124/124 [==============================] - 0s - loss: 0.6134 - acc: 0.9919     \n",
      "Epoch 38/50\n",
      "124/124 [==============================] - 0s - loss: 0.6060 - acc: 0.9919     \n",
      "Epoch 39/50\n",
      "124/124 [==============================] - 0s - loss: 0.5996 - acc: 0.9919     \n",
      "Epoch 40/50\n",
      "124/124 [==============================] - 0s - loss: 0.5926 - acc: 0.9919     \n",
      "Epoch 41/50\n",
      "124/124 [==============================] - 0s - loss: 0.5857 - acc: 0.9919     \n",
      "Epoch 42/50\n",
      "124/124 [==============================] - 0s - loss: 0.5795 - acc: 0.9919     \n",
      "Epoch 43/50\n",
      "124/124 [==============================] - 0s - loss: 0.5736 - acc: 0.9919     \n",
      "Epoch 44/50\n",
      "124/124 [==============================] - 0s - loss: 0.5675 - acc: 0.9919     \n",
      "Epoch 45/50\n",
      "124/124 [==============================] - 0s - loss: 0.5620 - acc: 0.9919     \n",
      "Epoch 46/50\n",
      "124/124 [==============================] - 0s - loss: 0.5565 - acc: 0.9919     \n",
      "Epoch 47/50\n",
      "124/124 [==============================] - 0s - loss: 0.5513 - acc: 0.9919     \n",
      "Epoch 48/50\n",
      "124/124 [==============================] - 0s - loss: 0.5458 - acc: 0.9919     \n",
      "Epoch 49/50\n",
      "124/124 [==============================] - 0s - loss: 0.5408 - acc: 0.9919     \n",
      "Epoch 50/50\n",
      "124/124 [==============================] - 0s - loss: 0.5357 - acc: 0.9919     \n"
     ]
    },
    {
     "data": {
      "text/plain": [
       "<tensorflow.contrib.keras.python.keras.callbacks.History at 0x11a754438>"
      ]
     },
     "execution_count": 29,
     "metadata": {},
     "output_type": "execute_result"
    }
   ],
   "source": [
    "dnn_keras_model.fit(scaled_x_train,y_train,epochs=50)"
   ]
  },
  {
   "cell_type": "markdown",
   "metadata": {},
   "source": [
    "Evaluate"
   ]
  },
  {
   "cell_type": "code",
   "execution_count": 31,
   "metadata": {},
   "outputs": [
    {
     "name": "stdout",
     "output_type": "stream",
     "text": [
      "\r",
      "32/54 [================>.............] - ETA: 0s"
     ]
    }
   ],
   "source": [
    "predictions = dnn_keras_model.predict_classes(scaled_x_test)"
   ]
  },
  {
   "cell_type": "code",
   "execution_count": 32,
   "metadata": {},
   "outputs": [
    {
     "name": "stdout",
     "output_type": "stream",
     "text": [
      "             precision    recall  f1-score   support\n",
      "\n",
      "          0       0.95      1.00      0.97        18\n",
      "          1       1.00      0.96      0.98        23\n",
      "          2       1.00      1.00      1.00        13\n",
      "\n",
      "avg / total       0.98      0.98      0.98        54\n",
      "\n"
     ]
    }
   ],
   "source": [
    "from sklearn.metrics import classification_report\n",
    "\n",
    "print(classification_report(predictions,y_test))"
   ]
  }
 ],
 "metadata": {
  "kernelspec": {
   "display_name": "Python 3",
   "language": "python",
   "name": "python3"
  },
  "language_info": {
   "codemirror_mode": {
    "name": "ipython",
    "version": 3
   },
   "file_extension": ".py",
   "mimetype": "text/x-python",
   "name": "python",
   "nbconvert_exporter": "python",
   "pygments_lexer": "ipython3",
   "version": "3.5.4"
  }
 },
 "nbformat": 4,
 "nbformat_minor": 2
}
